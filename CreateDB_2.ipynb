{
 "cells": [
  {
   "cell_type": "code",
   "execution_count": 1,
   "id": "8e3033f5",
   "metadata": {},
   "outputs": [],
   "source": [
    "%load_ext sql"
   ]
  },
  {
   "cell_type": "code",
   "execution_count": 2,
   "id": "4051c1ae",
   "metadata": {},
   "outputs": [
    {
     "data": {
      "text/plain": [
       "'Connected: @library.db'"
      ]
     },
     "execution_count": 2,
     "metadata": {},
     "output_type": "execute_result"
    }
   ],
   "source": [
    "%sql sqlite:///library.db"
   ]
  },
  {
   "cell_type": "markdown",
   "id": "a1b6270c",
   "metadata": {},
   "source": [
    "## Creating Tables\n"
   ]
  },
  {
   "cell_type": "code",
   "execution_count": 152,
   "id": "b2a618d5",
   "metadata": {},
   "outputs": [
    {
     "name": "stdout",
     "output_type": "stream",
     "text": [
      " * sqlite:///library.db\n",
      "Done.\n"
     ]
    },
    {
     "data": {
      "text/plain": [
       "[]"
      ]
     },
     "execution_count": 152,
     "metadata": {},
     "output_type": "execute_result"
    }
   ],
   "source": [
    "%%sql\n",
    "\n",
    "CREATE TABLE Author (\n",
    "    aid INTEGER PRIMARY KEY AUTOINCREMENT,\n",
    "    first_name VARCHAR(15) NOT NULL,\n",
    "    last_name VARCHAR(15),\n",
    "    birthdate TEXT,\n",
    "    UNIQUE(first_name, last_name, birthdate),\n",
    "    CHECK (birthdate IS DATE(birthdate))\n",
    ")"
   ]
  },
  {
   "cell_type": "code",
   "execution_count": 153,
   "id": "f51068da",
   "metadata": {},
   "outputs": [
    {
     "name": "stdout",
     "output_type": "stream",
     "text": [
      " * sqlite:///library.db\n",
      "Done.\n"
     ]
    },
    {
     "data": {
      "text/plain": [
       "[]"
      ]
     },
     "execution_count": 153,
     "metadata": {},
     "output_type": "execute_result"
    }
   ],
   "source": [
    "%%sql\n",
    "\n",
    "CREATE TABLE Item (\n",
    "    id INTEGER PRIMARY KEY AUTOINCREMENT,\n",
    "    title VARCHAR(20) NOT NULL,\n",
    "    year INTEGER,\n",
    "    type VARCHAR(15) NOT NULL,\n",
    "    aid INTEGER,\n",
    "    FOREIGN KEY (aid) REFERENCES Author(aid),\n",
    "    CHECK (type = 'print' OR type ='digital' OR type ='magazine' OR type ='journal' OR type ='cd' \n",
    "           OR type ='record' OR type ='dvd' OR type ='game'),\n",
    "    CHECK (year BETWEEN 0 AND 9999)\n",
    ")"
   ]
  },
  {
   "cell_type": "code",
   "execution_count": 154,
   "id": "0f0d9357",
   "metadata": {},
   "outputs": [
    {
     "name": "stdout",
     "output_type": "stream",
     "text": [
      " * sqlite:///library.db\n",
      "Done.\n"
     ]
    },
    {
     "data": {
      "text/plain": [
       "[]"
      ]
     },
     "execution_count": 154,
     "metadata": {},
     "output_type": "execute_result"
    }
   ],
   "source": [
    "%%sql\n",
    "\n",
    "CREATE TABLE Customer (\n",
    "    cid INTEGER PRIMARY KEY AUTOINCREMENT,\n",
    "    first_name VARCHAR(15) NOT NULL,\n",
    "    last_name VARCHAR(15) NOT NULL,\n",
    "    birthdate TEXT NOT NULL,\n",
    "    UNIQUE(first_name, last_name, birthdate),\n",
    "    CHECK (birthdate IS DATE(birthdate))\n",
    ")"
   ]
  },
  {
   "cell_type": "code",
   "execution_count": 155,
   "id": "493642fd",
   "metadata": {},
   "outputs": [
    {
     "name": "stdout",
     "output_type": "stream",
     "text": [
      " * sqlite:///library.db\n",
      "Done.\n"
     ]
    },
    {
     "data": {
      "text/plain": [
       "[]"
      ]
     },
     "execution_count": 155,
     "metadata": {},
     "output_type": "execute_result"
    }
   ],
   "source": [
    "%%sql\n",
    "\n",
    "CREATE TABLE Borrowed (\n",
    "    id INTEGER,\n",
    "    cid INTEGER,\n",
    "    borrow_date TEXT DEFAULT (DATE('now', 'localtime')),\n",
    "    due_date TEXT DEFAULT (DATE('now', '+10 days')),\n",
    "    PRIMARY KEY (id, cid),\n",
    "    FOREIGN KEY (id) REFERENCES Item(id),\n",
    "    FOREIGN KEY (cid) REFERENCES Customer(cid),\n",
    "    CHECK (borrow_date IS DATE(borrow_date)),\n",
    "    CHECK (due_date IS DATE(due_date))\n",
    ")"
   ]
  },
  {
   "cell_type": "code",
   "execution_count": 156,
   "id": "860f7516",
   "metadata": {},
   "outputs": [
    {
     "name": "stdout",
     "output_type": "stream",
     "text": [
      " * sqlite:///library.db\n",
      "Done.\n"
     ]
    },
    {
     "data": {
      "text/plain": [
       "[]"
      ]
     },
     "execution_count": 156,
     "metadata": {},
     "output_type": "execute_result"
    }
   ],
   "source": [
    "%%sql\n",
    "\n",
    "CREATE TABLE Fine (\n",
    "    id INTEGER,\n",
    "    cid INTEGER,\n",
    "    amount REAL DEFAULT 1.00,\n",
    "    PRIMARY KEY (id, cid),\n",
    "    FOREIGN KEY (id) REFERENCES Item(id)  ,\n",
    "    FOREIGN KEY (cid) REFERENCES Customer(cid)\n",
    ")"
   ]
  },
  {
   "cell_type": "code",
   "execution_count": 157,
   "id": "b607d6bb",
   "metadata": {},
   "outputs": [
    {
     "name": "stdout",
     "output_type": "stream",
     "text": [
      " * sqlite:///library.db\n",
      "Done.\n"
     ]
    },
    {
     "data": {
      "text/plain": [
       "[]"
      ]
     },
     "execution_count": 157,
     "metadata": {},
     "output_type": "execute_result"
    }
   ],
   "source": [
    "%%sql\n",
    "\n",
    "CREATE TABLE Event (\n",
    "    eid INTEGER PRIMARY KEY AUTOINCREMENT,\n",
    "    name VARCHAR(20) NOT NULL,\n",
    "    e_type VARCHAR(20) NOT NULL,\n",
    "    audience VARCHAR(20) DEFAULT 'all', \n",
    "    CHECK (audience = 'all' OR audience = 'child' OR audience = 'adolescent' OR audience ='adult'),\n",
    "    CHECK (e_type = 'club' OR e_type = 'signing' OR e_type = 'art' OR e_type = 'screening')\n",
    ")"
   ]
  },
  {
   "cell_type": "code",
   "execution_count": 158,
   "id": "6bdbff6c",
   "metadata": {},
   "outputs": [
    {
     "name": "stdout",
     "output_type": "stream",
     "text": [
      " * sqlite:///library.db\n",
      "Done.\n"
     ]
    },
    {
     "data": {
      "text/plain": [
       "[]"
      ]
     },
     "execution_count": 158,
     "metadata": {},
     "output_type": "execute_result"
    }
   ],
   "source": [
    "%%sql\n",
    "\n",
    "CREATE TABLE Room (\n",
    "    room_number INTEGER PRIMARY KEY AUTOINCREMENT,\n",
    "    capacity INTEGER NOT NULL,\n",
    "    CHECK (capacity > 0)\n",
    ")"
   ]
  },
  {
   "cell_type": "code",
   "execution_count": 159,
   "id": "a8f103d1",
   "metadata": {},
   "outputs": [
    {
     "name": "stdout",
     "output_type": "stream",
     "text": [
      " * sqlite:///library.db\n",
      "Done.\n"
     ]
    },
    {
     "data": {
      "text/plain": [
       "[]"
      ]
     },
     "execution_count": 159,
     "metadata": {},
     "output_type": "execute_result"
    }
   ],
   "source": [
    "%%sql\n",
    "\n",
    "CREATE TABLE Room_Booking (\n",
    "    eid INTEGER,\n",
    "    room_number INTEGER,\n",
    "    date TEXT NOT NULL,\n",
    "    start_time TEXT NOT NULL,\n",
    "    end_time TEXT NOT NULL,\n",
    "    PRIMARY KEY (eid, room_number),\n",
    "    FOREIGN KEY (eid) REFERENCES Event(eid),\n",
    "    FOREIGN KEY (room_number) REFERENCES Room(room_number),\n",
    "    CHECK (end_time > start_time),\n",
    "    CHECK (start_time IS strftime('%H:%M',start_time)),\n",
    "    CHECK (end_time IS strftime('%H:%M',end_time)),\n",
    "    CHECK (date IS DATE(date))\n",
    ")"
   ]
  },
  {
   "cell_type": "code",
   "execution_count": 160,
   "id": "7556e9ff",
   "metadata": {},
   "outputs": [
    {
     "name": "stdout",
     "output_type": "stream",
     "text": [
      " * sqlite:///library.db\n",
      "Done.\n"
     ]
    },
    {
     "data": {
      "text/plain": [
       "[]"
      ]
     },
     "execution_count": 160,
     "metadata": {},
     "output_type": "execute_result"
    }
   ],
   "source": [
    "%%sql\n",
    "\n",
    "CREATE TABLE Personnel (\n",
    "    pid INTEGER PRIMARY KEY AUTOINCREMENT,\n",
    "    first_name VARCHAR(15) NOT NULL,\n",
    "    last_name VARCHAR(15) NOT NULL,\n",
    "    birthdate TEXT NOT NULL,\n",
    "    role VARCHAR(15) NOT NULL,\n",
    "    join_date TEXT NOT NULL,\n",
    "    salary REAL NOT NULL,\n",
    "    CHECK (role = 'supervisor' OR role = 'volunteer'),\n",
    "    CHECK (salary >= 0),\n",
    "    CHECK (birthdate IS DATE(birthdate)),\n",
    "    UNIQUE(first_name, last_name, birthdate)\n",
    ")"
   ]
  },
  {
   "cell_type": "code",
   "execution_count": 161,
   "id": "85f7562c",
   "metadata": {},
   "outputs": [
    {
     "name": "stdout",
     "output_type": "stream",
     "text": [
      " * sqlite:///library.db\n",
      "Done.\n"
     ]
    },
    {
     "data": {
      "text/plain": [
       "[]"
      ]
     },
     "execution_count": 161,
     "metadata": {},
     "output_type": "execute_result"
    }
   ],
   "source": [
    "%%sql\n",
    "\n",
    "CREATE TABLE Future_Item (\n",
    "    fid INTEGER PRIMARY KEY AUTOINCREMENT,\n",
    "    title VARCHAR(20) NOT NULL,\n",
    "    year INTEGER,\n",
    "    type VARCHAR(15) NOT NULL,\n",
    "    aid INTEGER,\n",
    "    FOREIGN KEY (aid) REFERENCES Author(aid),\n",
    "    CHECK (type = 'print' OR type ='digital' OR type ='magazine' OR type ='journal' OR type ='cd' \n",
    "       OR type ='record' OR type ='dvd' OR type ='game'),\n",
    "    CHECK (year BETWEEN 0 AND 9999)\n",
    ")"
   ]
  },
  {
   "cell_type": "markdown",
   "id": "b6d45f0d",
   "metadata": {},
   "source": [
    "## Creating Triggers"
   ]
  },
  {
   "cell_type": "code",
   "execution_count": 162,
   "id": "b0008bae",
   "metadata": {},
   "outputs": [
    {
     "name": "stdout",
     "output_type": "stream",
     "text": [
      " * sqlite:///library.db\n",
      "Done.\n",
      "Done.\n",
      "Done.\n"
     ]
    },
    {
     "data": {
      "text/plain": [
       "[]"
      ]
     },
     "execution_count": 162,
     "metadata": {},
     "output_type": "execute_result"
    }
   ],
   "source": [
    "%%sql\n",
    "\n",
    "CREATE TRIGGER check_room_booking_overlap\n",
    "BEFORE INSERT ON Room_Booking\n",
    "WHEN EXISTS (\n",
    "    SELECT * FROM Room_Booking\n",
    "    WHERE eid = NEW.eid\n",
    "    AND room_number = NEW.room_number\n",
    "    AND date = NEW.date\n",
    "    AND start_time <= NEW.start_time\n",
    "    AND end_time >= NEW.end_time\n",
    ")\n",
    "BEGIN\n",
    "    SELECT RAISE (FAIL, 'Overlapping events');\n",
    "END;\n",
    "\n",
    "CREATE TRIGGER check_room_booking_event\n",
    "BEFORE INSERT ON Room_Booking\n",
    "WHEN NOT EXISTS (\n",
    "    SELECT * FROM Event\n",
    "    WHERE eid = NEW.eid\n",
    ")\n",
    "BEGIN\n",
    "    SELECT RAISE (FAIL, 'No such event');\n",
    "END;\n",
    "\n",
    "CREATE TRIGGER check_room_booking_room\n",
    "BEFORE INSERT ON Room_Booking\n",
    "WHEN NOT EXISTS (\n",
    "    SELECT * FROM Room\n",
    "    WHERE room_number = NEW.room_number\n",
    ")\n",
    "BEGIN\n",
    "    SELECT RAISE (FAIL, 'No such room');\n",
    "END;"
   ]
  },
  {
   "cell_type": "code",
   "execution_count": 163,
   "id": "d37415a8",
   "metadata": {},
   "outputs": [
    {
     "name": "stdout",
     "output_type": "stream",
     "text": [
      " * sqlite:///library.db\n",
      "Done.\n",
      "Done.\n"
     ]
    },
    {
     "data": {
      "text/plain": [
       "[]"
      ]
     },
     "execution_count": 163,
     "metadata": {},
     "output_type": "execute_result"
    }
   ],
   "source": [
    "%%sql\n",
    "\n",
    "CREATE TRIGGER check_existing_customer\n",
    "BEFORE INSERT ON Borrowed\n",
    "WHEN NOT EXISTS (\n",
    "    SELECT * FROM Customer\n",
    "    WHERE cid = NEW.cid\n",
    ")\n",
    "BEGIN\n",
    "    SELECT RAISE (FAIL, 'No such customer');\n",
    "END;\n",
    "\n",
    "CREATE TRIGGER check_existing_item\n",
    "BEFORE INSERT ON Borrowed\n",
    "WHEN NOT EXISTS (\n",
    "    SELECT * FROM Item\n",
    "    WHERE id = NEW.id\n",
    ")\n",
    "BEGIN\n",
    "    SELECT RAISE (FAIL, 'No such item');\n",
    "END;"
   ]
  },
  {
   "cell_type": "markdown",
   "id": "ac9650e8",
   "metadata": {},
   "source": [
    "## Inserting Values"
   ]
  },
  {
   "cell_type": "code",
   "execution_count": 164,
   "id": "1e6b4539",
   "metadata": {},
   "outputs": [
    {
     "name": "stdout",
     "output_type": "stream",
     "text": [
      " * sqlite:///library.db\n",
      "1 rows affected.\n",
      "1 rows affected.\n",
      "1 rows affected.\n",
      "1 rows affected.\n",
      "1 rows affected.\n",
      "1 rows affected.\n",
      "1 rows affected.\n",
      "1 rows affected.\n",
      "1 rows affected.\n",
      "1 rows affected.\n"
     ]
    },
    {
     "data": {
      "text/plain": [
       "[]"
      ]
     },
     "execution_count": 164,
     "metadata": {},
     "output_type": "execute_result"
    }
   ],
   "source": [
    "%%sql\n",
    "\n",
    "INSERT INTO Author (first_name, last_name, birthdate)\n",
    "VALUES ('Stephen', 'King', '1947-09-21');\n",
    "\n",
    "INSERT INTO Author (first_name, last_name, birthdate)\n",
    "VALUES ('Elton', 'John', '1947-03-25');\n",
    "\n",
    "INSERT INTO Author (first_name, last_name, birthdate)\n",
    "VALUES ('Markus', 'Persson', '1979-06-01');\n",
    "\n",
    "INSERT INTO Author (first_name, birthdate)\n",
    "VALUES ('Dr.Seuss', '1904-03-02');\n",
    "\n",
    "INSERT INTO Author (first_name, last_name, birthdate)\n",
    "VALUES ('Frank', 'Ocean', '1987-10-28');\n",
    "\n",
    "INSERT INTO Author (first_name, last_name, birthdate)\n",
    "VALUES ('Peter', 'Norvig', '1956-12-14');\n",
    "\n",
    "INSERT INTO Author (first_name, last_name, birthdate)\n",
    "VALUES ('Anna', 'Wintour', '1949-01-03');\n",
    "\n",
    "INSERT INTO Author (first_name, last_name, birthdate)\n",
    "VALUES ('Eazy', 'E', '1964-09-07');\n",
    "\n",
    "INSERT INTO Author (first_name, last_name, birthdate)\n",
    "VALUES ('Charles', 'Dickens', '1812-02-07');\n",
    "\n",
    "INSERT INTO Author (first_name, last_name, birthdate)\n",
    "VALUES ('William', 'Shakespeare', '1564-04-01');\n",
    "\n"
   ]
  },
  {
   "cell_type": "code",
   "execution_count": 165,
   "id": "5ad746a0",
   "metadata": {},
   "outputs": [
    {
     "name": "stdout",
     "output_type": "stream",
     "text": [
      " * sqlite:///library.db\n",
      "1 rows affected.\n",
      "1 rows affected.\n",
      "1 rows affected.\n",
      "1 rows affected.\n",
      "1 rows affected.\n",
      "1 rows affected.\n",
      "1 rows affected.\n",
      "1 rows affected.\n",
      "1 rows affected.\n",
      "1 rows affected.\n"
     ]
    },
    {
     "data": {
      "text/plain": [
       "[]"
      ]
     },
     "execution_count": 165,
     "metadata": {},
     "output_type": "execute_result"
    }
   ],
   "source": [
    "%%sql\n",
    "\n",
    "INSERT INTO Room (capacity)\n",
    "VALUES (2);\n",
    "INSERT INTO Room (capacity)\n",
    "VALUES (10);\n",
    "INSERT INTO Room (capacity)\n",
    "VALUES (5);\n",
    "INSERT INTO Room (capacity)\n",
    "VALUES (20);\n",
    "INSERT INTO Room (capacity)\n",
    "VALUES (5);\n",
    "INSERT INTO Room (capacity)\n",
    "VALUES (3);\n",
    "INSERT INTO Room (capacity)\n",
    "VALUES (15);\n",
    "INSERT INTO Room (capacity)\n",
    "VALUES (15);\n",
    "INSERT INTO Room (capacity)\n",
    "VALUES (20);\n",
    "INSERT INTO Room (capacity)\n",
    "VALUES (5);"
   ]
  },
  {
   "cell_type": "code",
   "execution_count": 166,
   "id": "e9fb5758",
   "metadata": {},
   "outputs": [
    {
     "name": "stdout",
     "output_type": "stream",
     "text": [
      " * sqlite:///library.db\n",
      "1 rows affected.\n",
      "1 rows affected.\n",
      "1 rows affected.\n",
      "1 rows affected.\n",
      "1 rows affected.\n",
      "1 rows affected.\n",
      "1 rows affected.\n",
      "1 rows affected.\n",
      "1 rows affected.\n",
      "1 rows affected.\n"
     ]
    },
    {
     "data": {
      "text/plain": [
       "[]"
      ]
     },
     "execution_count": 166,
     "metadata": {},
     "output_type": "execute_result"
    }
   ],
   "source": [
    "%%sql\n",
    "\n",
    "INSERT INTO Event (name, e_type, audience)\n",
    "VALUES ('Inaugural Book Club Meeting', 'club', 'all');\n",
    "\n",
    "INSERT INTO Event (name, e_type, audience)\n",
    "VALUES ('Disney movie Screening', 'screening', 'all');\n",
    "\n",
    "INSERT INTO Event (name, e_type, audience)\n",
    "VALUES ('Horror movie Screening', 'screening', 'adult');\n",
    "\n",
    "INSERT INTO Event (name, e_type, audience)\n",
    "VALUES ('Books and Wine', 'club', 'adult');\n",
    "\n",
    "INSERT INTO Event (name, e_type, audience)\n",
    "VALUES ('Stephen King Book Signing', 'signing', 'adolescent');\n",
    "\n",
    "INSERT INTO Event (name, e_type, audience)\n",
    "VALUES ('Pixar movie Screening', 'screening', 'all');\n",
    "\n",
    "INSERT INTO Event (name, e_type, audience)\n",
    "VALUES ('Paint and Wine', 'art', 'adult');\n",
    "\n",
    "INSERT INTO Event (name, e_type, audience)\n",
    "VALUES ('Intro to drawing', 'art', 'child');\n",
    "\n",
    "INSERT INTO Event (name, e_type, audience)\n",
    "VALUES ('Dr.Seuss Book signing', 'signing', 'child');\n",
    "\n",
    "INSERT INTO Event (name, e_type, audience)\n",
    "VALUES ('Family Movie Night', 'screening', 'all');\n"
   ]
  },
  {
   "cell_type": "code",
   "execution_count": 167,
   "id": "9ed0cc8e",
   "metadata": {},
   "outputs": [
    {
     "name": "stdout",
     "output_type": "stream",
     "text": [
      " * sqlite:///library.db\n",
      "1 rows affected.\n",
      "1 rows affected.\n",
      "1 rows affected.\n",
      "1 rows affected.\n",
      "1 rows affected.\n",
      "1 rows affected.\n",
      "1 rows affected.\n",
      "1 rows affected.\n",
      "1 rows affected.\n",
      "1 rows affected.\n"
     ]
    },
    {
     "data": {
      "text/plain": [
       "[]"
      ]
     },
     "execution_count": 167,
     "metadata": {},
     "output_type": "execute_result"
    }
   ],
   "source": [
    "%%sql\n",
    "\n",
    "INSERT INTO Item (title, year, type, aid)\n",
    "VALUES ('The Shining', 1977, 'print', 1);\n",
    "\n",
    "INSERT INTO Item (title, year, type, aid)\n",
    "VALUES ('The Stand', 1990, 'print', 1);\n",
    "\n",
    "INSERT INTO Item (title, year, type, aid)\n",
    "VALUES ('The Cat in the Hat', 1957, 'print', 4);\n",
    "\n",
    "INSERT INTO Item (title, year, type, aid)\n",
    "VALUES ('How the Grinch Stole Christmas!', 1957, 'print', 4);\n",
    "\n",
    "INSERT INTO Item (title, year, type, aid)\n",
    "VALUES ('Elton John', 1970, 'cd', 2);\n",
    "\n",
    "INSERT INTO Item (title, year, type, aid)\n",
    "VALUES ('Channel Orange', 2012, 'cd', 5);\n",
    "\n",
    "INSERT INTO Item (title, year, type, aid)\n",
    "VALUES ('Vogue', 1999, 'magazine', 7);\n",
    "\n",
    "INSERT INTO Item (title, year, type, aid)\n",
    "VALUES ('Google Hybrid Approach to Research', 2012, 'journal', 6);\n",
    "\n",
    "INSERT INTO Item (title, year, type, aid)\n",
    "VALUES ('Oliver Twist', 1838, 'print', 9);\n",
    "\n",
    "INSERT INTO Item (title, year, type, aid)\n",
    "VALUES ('A Christmas Carol', 1843, 'print', 9);\n"
   ]
  },
  {
   "cell_type": "code",
   "execution_count": 168,
   "id": "99c56d17",
   "metadata": {},
   "outputs": [
    {
     "name": "stdout",
     "output_type": "stream",
     "text": [
      " * sqlite:///library.db\n",
      "1 rows affected.\n",
      "1 rows affected.\n",
      "1 rows affected.\n",
      "1 rows affected.\n",
      "1 rows affected.\n",
      "1 rows affected.\n",
      "1 rows affected.\n",
      "1 rows affected.\n",
      "1 rows affected.\n",
      "1 rows affected.\n"
     ]
    },
    {
     "data": {
      "text/plain": [
       "[]"
      ]
     },
     "execution_count": 168,
     "metadata": {},
     "output_type": "execute_result"
    }
   ],
   "source": [
    "%%sql\n",
    "\n",
    "INSERT INTO Future_Item (title, year, type, aid)\n",
    "VALUES('Blonde', 2016, 'cd', 5);\n",
    "\n",
    "INSERT INTO Future_Item (title, year, type, aid)\n",
    "VALUES('It', 1986, 'print', 1);\n",
    "\n",
    "INSERT INTO Future_Item (title, year, type, aid)\n",
    "VALUES('Holly', 2023, 'print', 1);\n",
    "\n",
    "INSERT INTO Future_Item (title, year, type, aid)\n",
    "VALUES('Great Eggs and Ham', 1960, 'print', 4);\n",
    "\n",
    "INSERT INTO Future_Item (title, year, type, aid)\n",
    "VALUES('Fox in Socks', 1965, 'print', 4);\n",
    "\n",
    "INSERT INTO Future_Item (title, year, type, aid)\n",
    "VALUES('Bleak House', 1853, 'print', 9);\n",
    "\n",
    "INSERT INTO Future_Item (title, year, type, aid)\n",
    "VALUES('David Copperfield', 1850, 'print', 9);\n",
    "\n",
    "INSERT INTO Future_Item (title, year, type, aid)\n",
    "VALUES('Shambles', 2013, 'game', 3);\n",
    "\n",
    "INSERT INTO Future_Item (title, year, type, aid)\n",
    "VALUES('AI an Intelligent Approach', 2009, 'digital', 6);\n",
    "\n",
    "INSERT INTO Future_Item (title, year, type, aid)\n",
    "VALUES('Nostalgia Ultra', 2011, 'record', 5);\n"
   ]
  },
  {
   "cell_type": "code",
   "execution_count": 169,
   "id": "4a2e5ebb",
   "metadata": {},
   "outputs": [
    {
     "name": "stdout",
     "output_type": "stream",
     "text": [
      " * sqlite:///library.db\n",
      "1 rows affected.\n",
      "1 rows affected.\n",
      "1 rows affected.\n",
      "1 rows affected.\n",
      "1 rows affected.\n",
      "1 rows affected.\n",
      "1 rows affected.\n",
      "1 rows affected.\n",
      "1 rows affected.\n",
      "1 rows affected.\n",
      "1 rows affected.\n"
     ]
    },
    {
     "data": {
      "text/plain": [
       "[]"
      ]
     },
     "execution_count": 169,
     "metadata": {},
     "output_type": "execute_result"
    }
   ],
   "source": [
    "%%sql\n",
    "\n",
    "INSERT INTO Customer (first_name, last_name, birthdate)\n",
    "VALUES ('Justin', 'Xie', '2001-10-23');\n",
    "\n",
    "INSERT INTO Customer (first_name, last_name, birthdate)\n",
    "VALUES ('John', 'Smith', '1991-01-28');\n",
    "\n",
    "INSERT INTO Customer (first_name, last_name, birthdate)\n",
    "VALUES ('Sally', 'Doe', '2015-11-30');\n",
    "\n",
    "INSERT INTO Customer (first_name, last_name, birthdate)\n",
    "VALUES ('Simon', 'Rief', '1961-04-01');\n",
    "\n",
    "INSERT INTO Customer (first_name, last_name, birthdate)\n",
    "VALUES ('Alan', 'Lee', '2001-06-06');\n",
    "\n",
    "INSERT INTO Customer (first_name, last_name, birthdate)\n",
    "VALUES ('Owen', 'George', '2004-12-31');\n",
    "\n",
    "INSERT INTO Customer (first_name, last_name, birthdate)\n",
    "VALUES ('Natalie', 'Ngo', '1998-09-22');\n",
    "\n",
    "INSERT INTO Customer (first_name, last_name, birthdate)\n",
    "VALUES ('Lois', 'Lane', '1972-01-04');\n",
    "\n",
    "INSERT INTO Customer (first_name, last_name, birthdate)\n",
    "VALUES ('Mike', 'Ike', '2010-02-16');\n",
    "\n",
    "INSERT INTO Customer (first_name, last_name, birthdate)\n",
    "VALUES ('Chris', 'Chan', '1989-03-29');\n",
    "\n",
    "INSERT INTO Customer (first_name, last_name, birthdate)\n",
    "VALUES ('Christine', 'Chan', '1991-01-23');"
   ]
  },
  {
   "cell_type": "code",
   "execution_count": 170,
   "id": "cbdfeedc",
   "metadata": {},
   "outputs": [
    {
     "name": "stdout",
     "output_type": "stream",
     "text": [
      " * sqlite:///library.db\n",
      "1 rows affected.\n",
      "1 rows affected.\n",
      "1 rows affected.\n",
      "1 rows affected.\n",
      "1 rows affected.\n",
      "1 rows affected.\n",
      "1 rows affected.\n",
      "1 rows affected.\n",
      "1 rows affected.\n",
      "1 rows affected.\n"
     ]
    },
    {
     "data": {
      "text/plain": [
       "[]"
      ]
     },
     "execution_count": 170,
     "metadata": {},
     "output_type": "execute_result"
    }
   ],
   "source": [
    "%%sql\n",
    "\n",
    "INSERT INTO Personnel (first_name, last_name, birthdate, role, join_date, salary)\n",
    "VALUES ('Andrew', 'Mcdonald', '2004-12-12', 'volunteer', '2022-03-12', 0);\n",
    "\n",
    "INSERT INTO Personnel (first_name, last_name, birthdate, role, join_date, salary)\n",
    "VALUES ('Dalauan', 'Sparrow', '2000-09-17', 'supervisor', '2022-03-12', 50000);\n",
    "\n",
    "INSERT INTO Personnel (first_name, last_name, birthdate, role, join_date, salary)\n",
    "VALUES ('Mike', 'Andrews', '2002-09-12', 'volunteer', '2023-04-16', 0);\n",
    "\n",
    "INSERT INTO Personnel (first_name, last_name, birthdate, role, join_date, salary)\n",
    "VALUES ('Rory', 'Mcdonald', '1998-01-09', 'volunteer', '2022-03-12', 0);\n",
    "\n",
    "INSERT INTO Personnel (first_name, last_name, birthdate, role, join_date, salary)\n",
    "VALUES ('Kirk', 'Robles', '2001-03-12', 'supervisor', '2023-02-18', 45000);\n",
    "\n",
    "INSERT INTO Personnel (first_name, last_name, birthdate, role, join_date, salary)\n",
    "VALUES ('Andrew', 'Lee', '2006-08-24', 'volunteer', '2023-06-25', 0);\n",
    "\n",
    "INSERT INTO Personnel (first_name, last_name, birthdate, role, join_date, salary)\n",
    "VALUES ('Sarah', 'Chow', '2002-05-30', 'volunteer', '2023-06-24', 0);\n",
    "\n",
    "INSERT INTO Personnel (first_name, last_name, birthdate, role, join_date, salary)\n",
    "VALUES ('Sally', 'Smith', '1984-07-23', 'supervisor', '2001-04-25', 65000);\n",
    "\n",
    "INSERT INTO Personnel (first_name, last_name, birthdate, role, join_date, salary)\n",
    "VALUES ('Jean', 'Dawson', '2004-12-12', 'volunteer', '2021-04-25', 0);\n",
    "\n",
    "INSERT INTO Personnel (first_name, last_name, birthdate, role, join_date, salary)\n",
    "VALUES ('Frank', 'Ocean', '2004-12-12', 'volunteer', '2019-06-06', 0);"
   ]
  },
  {
   "cell_type": "code",
   "execution_count": 171,
   "id": "2d460d01",
   "metadata": {},
   "outputs": [
    {
     "name": "stdout",
     "output_type": "stream",
     "text": [
      " * sqlite:///library.db\n",
      "1 rows affected.\n",
      "1 rows affected.\n",
      "1 rows affected.\n",
      "1 rows affected.\n",
      "1 rows affected.\n",
      "1 rows affected.\n",
      "1 rows affected.\n",
      "1 rows affected.\n",
      "1 rows affected.\n",
      "1 rows affected.\n"
     ]
    },
    {
     "data": {
      "text/plain": [
       "[]"
      ]
     },
     "execution_count": 171,
     "metadata": {},
     "output_type": "execute_result"
    }
   ],
   "source": [
    "%%sql\n",
    "\n",
    "INSERT INTO Room_Booking (eid, room_number, date, start_time, end_time)\n",
    "VALUES (1, 2, '2013-01-01', \"04:15\", \"05:15\");\n",
    "\n",
    "INSERT INTO Room_Booking (eid, room_number, date, start_time, end_time)\n",
    "VALUES (3, 4, '2013-03-01', \"07:15\", \"08:15\");\n",
    "\n",
    "INSERT INTO Room_Booking (eid, room_number, date, start_time, end_time)\n",
    "VALUES (3, 3, '2021-01-01', \"10:00\", \"12:00\");\n",
    "\n",
    "INSERT INTO Room_Booking (eid, room_number, date, start_time, end_time)\n",
    "VALUES (2, 8, '2014-02-01', \"04:15\", \"05:15\");\n",
    "\n",
    "INSERT INTO Room_Booking (eid, room_number, date, start_time, end_time)\n",
    "VALUES (8, 9, '2018-01-09', \"15:30\", \"18:15\");\n",
    "\n",
    "INSERT INTO Room_Booking (eid, room_number, date, start_time, end_time)\n",
    "VALUES (4, 6, '2023-01-01', \"14:15\", \"15:15\");\n",
    "\n",
    "INSERT INTO Room_Booking (eid, room_number, date, start_time, end_time)\n",
    "VALUES (7, 1, '2023-01-02', \"07:30\", \"09:45\");\n",
    "\n",
    "INSERT INTO Room_Booking (eid, room_number, date, start_time, end_time)\n",
    "VALUES (9, 7, '2017-11-11', \"04:15\", \"05:15\");\n",
    "\n",
    "INSERT INTO Room_Booking (eid, room_number, date, start_time, end_time)\n",
    "VALUES (1, 4, '2022-08-03', \"04:15\", \"05:15\");\n",
    "\n",
    "INSERT INTO Room_Booking (eid, room_number, date, start_time, end_time)\n",
    "VALUES (2, 3, '2018-01-09', \"04:15\", \"05:15\");"
   ]
  },
  {
   "cell_type": "code",
   "execution_count": 172,
   "id": "b316ae1b",
   "metadata": {},
   "outputs": [
    {
     "name": "stdout",
     "output_type": "stream",
     "text": [
      " * sqlite:///library.db\n",
      "10 rows affected.\n"
     ]
    },
    {
     "data": {
      "text/plain": [
       "[]"
      ]
     },
     "execution_count": 172,
     "metadata": {},
     "output_type": "execute_result"
    }
   ],
   "source": [
    "%%sql\n",
    "\n",
    "INSERT INTO Borrowed (id, cid)\n",
    "VALUES (1, 6),\n",
    "    (2, 6),\n",
    "    (3, 7),\n",
    "    (4, 7),\n",
    "    (5, 8),\n",
    "    (6, 8),\n",
    "    (7, 9),\n",
    "    (8, 9),\n",
    "    (9, 10),\n",
    "    (10, 10);\n"
   ]
  },
  {
   "cell_type": "code",
   "execution_count": 173,
   "id": "5a5d1ef3",
   "metadata": {},
   "outputs": [
    {
     "name": "stdout",
     "output_type": "stream",
     "text": [
      " * sqlite:///library.db\n",
      "10 rows affected.\n"
     ]
    },
    {
     "data": {
      "text/plain": [
       "[]"
      ]
     },
     "execution_count": 173,
     "metadata": {},
     "output_type": "execute_result"
    }
   ],
   "source": [
    "%%sql\n",
    "\n",
    "INSERT INTO Fine (id, cid)\n",
    "VALUES (1, 1),\n",
    "    (2, 1),\n",
    "    (3, 2),\n",
    "    (4, 2),\n",
    "    (5, 3),\n",
    "    (6, 3),\n",
    "    (7, 4),\n",
    "    (8, 4),\n",
    "    (9, 5),\n",
    "    (10, 5);"
   ]
  },
  {
   "cell_type": "code",
   "execution_count": 151,
   "id": "7a7de543",
   "metadata": {},
   "outputs": [
    {
     "name": "stdout",
     "output_type": "stream",
     "text": [
      " * sqlite:///library.db\n",
      "Done.\n",
      "Done.\n",
      "Done.\n",
      "Done.\n",
      "Done.\n",
      "Done.\n",
      "Done.\n",
      "Done.\n",
      "Done.\n",
      "Done.\n"
     ]
    },
    {
     "data": {
      "text/plain": [
       "[]"
      ]
     },
     "execution_count": 151,
     "metadata": {},
     "output_type": "execute_result"
    }
   ],
   "source": [
    "'''\n",
    "%%sql\n",
    "\n",
    "DROP TABLE Author;\n",
    "DROP TABLE Item;\n",
    "DROP TABLE Customer;\n",
    "DROP TABLE Borrowed;\n",
    "DROP TABLE Fine;\n",
    "DROP TABLE Event;\n",
    "DROP TABLE Room;\n",
    "DROP TABLE Room_Booking;\n",
    "DROP TABLE Personnel;\n",
    "DROP TABLE Future_Item;\n",
    "'''"
   ]
  },
  {
   "cell_type": "code",
   "execution_count": 174,
   "id": "f5322885",
   "metadata": {},
   "outputs": [
    {
     "name": "stdout",
     "output_type": "stream",
     "text": [
      " * sqlite:///library.db\n",
      "Done.\n"
     ]
    },
    {
     "data": {
      "text/html": [
       "<table>\n",
       "    <thead>\n",
       "        <tr>\n",
       "            <th>pid</th>\n",
       "            <th>first_name</th>\n",
       "            <th>last_name</th>\n",
       "            <th>birthdate</th>\n",
       "            <th>role</th>\n",
       "            <th>join_date</th>\n",
       "            <th>salary</th>\n",
       "        </tr>\n",
       "    </thead>\n",
       "    <tbody>\n",
       "        <tr>\n",
       "            <td>1</td>\n",
       "            <td>Andrew</td>\n",
       "            <td>Mcdonald</td>\n",
       "            <td>2004-12-12</td>\n",
       "            <td>volunteer</td>\n",
       "            <td>2022-03-12</td>\n",
       "            <td>0.0</td>\n",
       "        </tr>\n",
       "        <tr>\n",
       "            <td>2</td>\n",
       "            <td>Dalauan</td>\n",
       "            <td>Sparrow</td>\n",
       "            <td>2000-09-17</td>\n",
       "            <td>supervisor</td>\n",
       "            <td>2022-03-12</td>\n",
       "            <td>50000.0</td>\n",
       "        </tr>\n",
       "        <tr>\n",
       "            <td>3</td>\n",
       "            <td>Mike</td>\n",
       "            <td>Andrews</td>\n",
       "            <td>2002-09-12</td>\n",
       "            <td>volunteer</td>\n",
       "            <td>2023-04-16</td>\n",
       "            <td>0.0</td>\n",
       "        </tr>\n",
       "        <tr>\n",
       "            <td>4</td>\n",
       "            <td>Rory</td>\n",
       "            <td>Mcdonald</td>\n",
       "            <td>1998-01-09</td>\n",
       "            <td>volunteer</td>\n",
       "            <td>2022-03-12</td>\n",
       "            <td>0.0</td>\n",
       "        </tr>\n",
       "        <tr>\n",
       "            <td>5</td>\n",
       "            <td>Kirk</td>\n",
       "            <td>Robles</td>\n",
       "            <td>2001-03-12</td>\n",
       "            <td>supervisor</td>\n",
       "            <td>2023-02-18</td>\n",
       "            <td>45000.0</td>\n",
       "        </tr>\n",
       "        <tr>\n",
       "            <td>6</td>\n",
       "            <td>Andrew</td>\n",
       "            <td>Lee</td>\n",
       "            <td>2006-08-24</td>\n",
       "            <td>volunteer</td>\n",
       "            <td>2023-06-25</td>\n",
       "            <td>0.0</td>\n",
       "        </tr>\n",
       "        <tr>\n",
       "            <td>7</td>\n",
       "            <td>Sarah</td>\n",
       "            <td>Chow</td>\n",
       "            <td>2002-05-30</td>\n",
       "            <td>volunteer</td>\n",
       "            <td>2023-06-24</td>\n",
       "            <td>0.0</td>\n",
       "        </tr>\n",
       "        <tr>\n",
       "            <td>8</td>\n",
       "            <td>Sally</td>\n",
       "            <td>Smith</td>\n",
       "            <td>1984-07-23</td>\n",
       "            <td>supervisor</td>\n",
       "            <td>2001-04-25</td>\n",
       "            <td>65000.0</td>\n",
       "        </tr>\n",
       "        <tr>\n",
       "            <td>9</td>\n",
       "            <td>Jean</td>\n",
       "            <td>Dawson</td>\n",
       "            <td>2004-12-12</td>\n",
       "            <td>volunteer</td>\n",
       "            <td>2021-04-25</td>\n",
       "            <td>0.0</td>\n",
       "        </tr>\n",
       "        <tr>\n",
       "            <td>10</td>\n",
       "            <td>Frank</td>\n",
       "            <td>Ocean</td>\n",
       "            <td>2004-12-12</td>\n",
       "            <td>volunteer</td>\n",
       "            <td>2019-06-06</td>\n",
       "            <td>0.0</td>\n",
       "        </tr>\n",
       "    </tbody>\n",
       "</table>"
      ],
      "text/plain": [
       "[(1, 'Andrew', 'Mcdonald', '2004-12-12', 'volunteer', '2022-03-12', 0.0),\n",
       " (2, 'Dalauan', 'Sparrow', '2000-09-17', 'supervisor', '2022-03-12', 50000.0),\n",
       " (3, 'Mike', 'Andrews', '2002-09-12', 'volunteer', '2023-04-16', 0.0),\n",
       " (4, 'Rory', 'Mcdonald', '1998-01-09', 'volunteer', '2022-03-12', 0.0),\n",
       " (5, 'Kirk', 'Robles', '2001-03-12', 'supervisor', '2023-02-18', 45000.0),\n",
       " (6, 'Andrew', 'Lee', '2006-08-24', 'volunteer', '2023-06-25', 0.0),\n",
       " (7, 'Sarah', 'Chow', '2002-05-30', 'volunteer', '2023-06-24', 0.0),\n",
       " (8, 'Sally', 'Smith', '1984-07-23', 'supervisor', '2001-04-25', 65000.0),\n",
       " (9, 'Jean', 'Dawson', '2004-12-12', 'volunteer', '2021-04-25', 0.0),\n",
       " (10, 'Frank', 'Ocean', '2004-12-12', 'volunteer', '2019-06-06', 0.0)]"
      ]
     },
     "execution_count": 174,
     "metadata": {},
     "output_type": "execute_result"
    }
   ],
   "source": [
    "%%sql\n",
    "\n",
    "SELECT * FROM Personnel"
   ]
  },
  {
   "cell_type": "code",
   "execution_count": null,
   "id": "88cac2f8",
   "metadata": {},
   "outputs": [],
   "source": []
  }
 ],
 "metadata": {
  "kernelspec": {
   "display_name": "Python 3 (ipykernel)",
   "language": "python",
   "name": "python3"
  },
  "language_info": {
   "codemirror_mode": {
    "name": "ipython",
    "version": 3
   },
   "file_extension": ".py",
   "mimetype": "text/x-python",
   "name": "python",
   "nbconvert_exporter": "python",
   "pygments_lexer": "ipython3",
   "version": "3.10.9"
  }
 },
 "nbformat": 4,
 "nbformat_minor": 5
}
